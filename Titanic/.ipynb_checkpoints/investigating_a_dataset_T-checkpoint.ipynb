{
 "cells": [
  {
   "cell_type": "markdown",
   "metadata": {},
   "source": [
    "# Project 2: Investigatin a Dataset"
   ]
  },
  {
   "cell_type": "markdown",
   "metadata": {},
   "source": [
    "### Haleh Dolati"
   ]
  },
  {
   "cell_type": "markdown",
   "metadata": {},
   "source": [
    "For this project I chose the Titanic dataset. I'm going to use pandas, matplot, and numpy to examine the data and answer the questions."
   ]
  },
  {
   "cell_type": "code",
   "execution_count": 1,
   "metadata": {
    "collapsed": false
   },
   "outputs": [
    {
     "data": {
      "text/html": [
       "<div>\n",
       "<table border=\"1\" class=\"dataframe\">\n",
       "  <thead>\n",
       "    <tr style=\"text-align: right;\">\n",
       "      <th></th>\n",
       "      <th>PassengerId</th>\n",
       "      <th>Survived</th>\n",
       "      <th>Pclass</th>\n",
       "      <th>Name</th>\n",
       "      <th>Sex</th>\n",
       "      <th>Age</th>\n",
       "      <th>SibSp</th>\n",
       "      <th>Parch</th>\n",
       "      <th>Ticket</th>\n",
       "      <th>Fare</th>\n",
       "      <th>Cabin</th>\n",
       "      <th>Embarked</th>\n",
       "    </tr>\n",
       "  </thead>\n",
       "  <tbody>\n",
       "    <tr>\n",
       "      <th>0</th>\n",
       "      <td>1</td>\n",
       "      <td>0</td>\n",
       "      <td>3</td>\n",
       "      <td>Braund, Mr. Owen Harris</td>\n",
       "      <td>male</td>\n",
       "      <td>22.0</td>\n",
       "      <td>1</td>\n",
       "      <td>0</td>\n",
       "      <td>A/5 21171</td>\n",
       "      <td>7.2500</td>\n",
       "      <td>NaN</td>\n",
       "      <td>S</td>\n",
       "    </tr>\n",
       "    <tr>\n",
       "      <th>1</th>\n",
       "      <td>2</td>\n",
       "      <td>1</td>\n",
       "      <td>1</td>\n",
       "      <td>Cumings, Mrs. John Bradley (Florence Briggs Th...</td>\n",
       "      <td>female</td>\n",
       "      <td>38.0</td>\n",
       "      <td>1</td>\n",
       "      <td>0</td>\n",
       "      <td>PC 17599</td>\n",
       "      <td>71.2833</td>\n",
       "      <td>C85</td>\n",
       "      <td>C</td>\n",
       "    </tr>\n",
       "    <tr>\n",
       "      <th>2</th>\n",
       "      <td>3</td>\n",
       "      <td>1</td>\n",
       "      <td>3</td>\n",
       "      <td>Heikkinen, Miss. Laina</td>\n",
       "      <td>female</td>\n",
       "      <td>26.0</td>\n",
       "      <td>0</td>\n",
       "      <td>0</td>\n",
       "      <td>STON/O2. 3101282</td>\n",
       "      <td>7.9250</td>\n",
       "      <td>NaN</td>\n",
       "      <td>S</td>\n",
       "    </tr>\n",
       "  </tbody>\n",
       "</table>\n",
       "</div>"
      ],
      "text/plain": [
       "   PassengerId  Survived  Pclass  \\\n",
       "0            1         0       3   \n",
       "1            2         1       1   \n",
       "2            3         1       3   \n",
       "\n",
       "                                                Name     Sex   Age  SibSp  \\\n",
       "0                            Braund, Mr. Owen Harris    male  22.0      1   \n",
       "1  Cumings, Mrs. John Bradley (Florence Briggs Th...  female  38.0      1   \n",
       "2                             Heikkinen, Miss. Laina  female  26.0      0   \n",
       "\n",
       "   Parch            Ticket     Fare Cabin Embarked  \n",
       "0      0         A/5 21171   7.2500   NaN        S  \n",
       "1      0          PC 17599  71.2833   C85        C  \n",
       "2      0  STON/O2. 3101282   7.9250   NaN        S  "
      ]
     },
     "execution_count": 1,
     "metadata": {},
     "output_type": "execute_result"
    }
   ],
   "source": [
    "import numpy as np\n",
    "import pandas as pd\n",
    "\n",
    "Titanic= pd.read_csv('Titanic-data.csv')\n",
    "Titanic [:3]"
   ]
  },
  {
   "cell_type": "markdown",
   "metadata": {},
   "source": [
    "The next step is to check the data types and look at some basic statistics:"
   ]
  },
  {
   "cell_type": "code",
   "execution_count": 2,
   "metadata": {
    "collapsed": false
   },
   "outputs": [
    {
     "name": "stdout",
     "output_type": "stream",
     "text": [
      "PassengerId      int64\n",
      "Survived         int64\n",
      "Pclass           int64\n",
      "Name            object\n",
      "Sex             object\n",
      "Age            float64\n",
      "SibSp            int64\n",
      "Parch            int64\n",
      "Ticket          object\n",
      "Fare           float64\n",
      "Cabin           object\n",
      "Embarked        object\n",
      "dtype: object\n"
     ]
    }
   ],
   "source": [
    "print Titanic.dtypes\n"
   ]
  },
  {
   "cell_type": "code",
   "execution_count": 3,
   "metadata": {
    "collapsed": false
   },
   "outputs": [
    {
     "data": {
      "text/html": [
       "<div>\n",
       "<table border=\"1\" class=\"dataframe\">\n",
       "  <thead>\n",
       "    <tr style=\"text-align: right;\">\n",
       "      <th></th>\n",
       "      <th>PassengerId</th>\n",
       "      <th>Survived</th>\n",
       "      <th>Pclass</th>\n",
       "      <th>Age</th>\n",
       "      <th>SibSp</th>\n",
       "      <th>Parch</th>\n",
       "      <th>Fare</th>\n",
       "    </tr>\n",
       "  </thead>\n",
       "  <tbody>\n",
       "    <tr>\n",
       "      <th>count</th>\n",
       "      <td>891.000</td>\n",
       "      <td>891.000</td>\n",
       "      <td>891.000</td>\n",
       "      <td>714.000</td>\n",
       "      <td>891.000</td>\n",
       "      <td>891.000</td>\n",
       "      <td>891.000</td>\n",
       "    </tr>\n",
       "    <tr>\n",
       "      <th>mean</th>\n",
       "      <td>446.000</td>\n",
       "      <td>0.384</td>\n",
       "      <td>2.309</td>\n",
       "      <td>29.699</td>\n",
       "      <td>0.523</td>\n",
       "      <td>0.382</td>\n",
       "      <td>32.204</td>\n",
       "    </tr>\n",
       "    <tr>\n",
       "      <th>std</th>\n",
       "      <td>257.354</td>\n",
       "      <td>0.487</td>\n",
       "      <td>0.836</td>\n",
       "      <td>14.526</td>\n",
       "      <td>1.103</td>\n",
       "      <td>0.806</td>\n",
       "      <td>49.693</td>\n",
       "    </tr>\n",
       "    <tr>\n",
       "      <th>min</th>\n",
       "      <td>1.000</td>\n",
       "      <td>0.000</td>\n",
       "      <td>1.000</td>\n",
       "      <td>0.420</td>\n",
       "      <td>0.000</td>\n",
       "      <td>0.000</td>\n",
       "      <td>0.000</td>\n",
       "    </tr>\n",
       "    <tr>\n",
       "      <th>25%</th>\n",
       "      <td>223.500</td>\n",
       "      <td>0.000</td>\n",
       "      <td>2.000</td>\n",
       "      <td>20.125</td>\n",
       "      <td>0.000</td>\n",
       "      <td>0.000</td>\n",
       "      <td>7.910</td>\n",
       "    </tr>\n",
       "    <tr>\n",
       "      <th>50%</th>\n",
       "      <td>446.000</td>\n",
       "      <td>0.000</td>\n",
       "      <td>3.000</td>\n",
       "      <td>28.000</td>\n",
       "      <td>0.000</td>\n",
       "      <td>0.000</td>\n",
       "      <td>14.454</td>\n",
       "    </tr>\n",
       "    <tr>\n",
       "      <th>75%</th>\n",
       "      <td>668.500</td>\n",
       "      <td>1.000</td>\n",
       "      <td>3.000</td>\n",
       "      <td>38.000</td>\n",
       "      <td>1.000</td>\n",
       "      <td>0.000</td>\n",
       "      <td>31.000</td>\n",
       "    </tr>\n",
       "    <tr>\n",
       "      <th>max</th>\n",
       "      <td>891.000</td>\n",
       "      <td>1.000</td>\n",
       "      <td>3.000</td>\n",
       "      <td>80.000</td>\n",
       "      <td>8.000</td>\n",
       "      <td>6.000</td>\n",
       "      <td>512.329</td>\n",
       "    </tr>\n",
       "  </tbody>\n",
       "</table>\n",
       "</div>"
      ],
      "text/plain": [
       "       PassengerId  Survived   Pclass      Age    SibSp    Parch     Fare\n",
       "count      891.000   891.000  891.000  714.000  891.000  891.000  891.000\n",
       "mean       446.000     0.384    2.309   29.699    0.523    0.382   32.204\n",
       "std        257.354     0.487    0.836   14.526    1.103    0.806   49.693\n",
       "min          1.000     0.000    1.000    0.420    0.000    0.000    0.000\n",
       "25%        223.500     0.000    2.000   20.125    0.000    0.000    7.910\n",
       "50%        446.000     0.000    3.000   28.000    0.000    0.000   14.454\n",
       "75%        668.500     1.000    3.000   38.000    1.000    0.000   31.000\n",
       "max        891.000     1.000    3.000   80.000    8.000    6.000  512.329"
      ]
     },
     "execution_count": 3,
     "metadata": {},
     "output_type": "execute_result"
    }
   ],
   "source": [
    "# set the precision to 3 decimal points\n",
    "pd.set_option('precision',3)\n",
    "\n",
    "Titanic.describe()"
   ]
  },
  {
   "cell_type": "code",
   "execution_count": 4,
   "metadata": {
    "collapsed": false
   },
   "outputs": [
    {
     "data": {
      "text/plain": [
       "PassengerId      0\n",
       "Survived         0\n",
       "Pclass           0\n",
       "Name             0\n",
       "Sex              0\n",
       "Age            177\n",
       "SibSp            0\n",
       "Parch            0\n",
       "Ticket           0\n",
       "Fare             0\n",
       "Cabin          687\n",
       "Embarked         2\n",
       "dtype: int64"
      ]
     },
     "execution_count": 4,
     "metadata": {},
     "output_type": "execute_result"
    }
   ],
   "source": [
    "# Check the null values\n",
    "pd.isnull(Titanic).sum()"
   ]
  },
  {
   "cell_type": "markdown",
   "metadata": {},
   "source": [
    "Two columns have null values: Age and Cabin. Cabin is the cabin number, which I'm not going to use in this analysis. \n",
    "But I'm going to use the age of the passengers in my analysis."
   ]
  },
  {
   "cell_type": "markdown",
   "metadata": {
    "collapsed": true
   },
   "source": [
    "# Interesting facts: \n",
    "I would like to know who were the youngest and oldest passengers and survivors:"
   ]
  },
  {
   "cell_type": "code",
   "execution_count": 5,
   "metadata": {
    "collapsed": true
   },
   "outputs": [],
   "source": [
    "def reverse_name(name):\n",
    "    split_name=name.split(\",\")\n",
    "    fname=split_name[0]\n",
    "    lname=split_name[1]\n",
    "    return lname + \" \" +fname"
   ]
  },
  {
   "cell_type": "code",
   "execution_count": 6,
   "metadata": {
    "collapsed": false
   },
   "outputs": [
    {
     "name": "stdout",
     "output_type": "stream",
     "text": [
      "There were 891 passengers on-board.\n",
      "The oldest passenger was Mr. Algernon Henry Wilson Barkworth & the youngest one was Master. Assad Alexander Thomas.\n"
     ]
    }
   ],
   "source": [
    "# total number of passengers:\n",
    "\n",
    "oldestid= Titanic.Age.argmax()\n",
    "youngestid=Titanic.Age.argmin()\n",
    "print 'There were' , Titanic.PassengerId.nunique() ,'passengers on-board.'\n",
    "\n",
    "print 'The oldest passenger was'+ reverse_name(Titanic.Name[oldestid]) + ' & the youngest one was'+ reverse_name(Titanic.Name[youngestid])+ '.'\n",
    "\n"
   ]
  },
  {
   "cell_type": "markdown",
   "metadata": {},
   "source": [
    "# What factors made people more likely to survive?\n",
    "First I would like to see what percent of passengers survived, then I want to know the survivorship by Age, Gender, and Class of their cabin. "
   ]
  },
  {
   "cell_type": "markdown",
   "metadata": {},
   "source": [
    "### Total Survaivorship: \n"
   ]
  },
  {
   "cell_type": "code",
   "execution_count": 7,
   "metadata": {
    "collapsed": false
   },
   "outputs": [
    {
     "name": "stdout",
     "output_type": "stream",
     "text": [
      "Only 38.38% of Titanic's passengers survived the accident.\n"
     ]
    }
   ],
   "source": [
    "print 'Only', str(round(Titanic.Survived.mean(), 4)*100) + '% of Titanic\\'s passengers survived the accident.'"
   ]
  },
  {
   "cell_type": "code",
   "execution_count": 8,
   "metadata": {
    "collapsed": true
   },
   "outputs": [],
   "source": [
    "# Survived_Passengers= Titanic['Survived']"
   ]
  },
  {
   "cell_type": "markdown",
   "metadata": {},
   "source": [
    "The next step is to find out how different variables affected the survivorship. The process to calculate the percentage of survived passenger based on each variable is:\n",
    "1-\tGroup that variable based on common values of data points. For example the ‘sex’ variable will be grouped based on ‘male’ and ‘female’ values. I’m going to use groupby() function.\n",
    "2-\tThe next step is to calculate the number of people who survived the crash in each group and the total number of passenger.\n",
    "3-\tAnd the final step is to calculate the survivorship.\n",
    "I'm going to write a function for this process."
   ]
  },
  {
   "cell_type": "code",
   "execution_count": null,
   "metadata": {
    "collapsed": true
   },
   "outputs": [],
   "source": [
    "def \n",
    "Passenger_Group_by_Gender = Titanic.groupby('Sex')\n",
    "num_FM_survided = Passenger_Group_by_Gender ['Survived'].sum()\n",
    "count_FM_Group = Passenger_Group_by_Gender ['PassengerId'].count()"
   ]
  },
  {
   "cell_type": "markdown",
   "metadata": {},
   "source": [
    "### Survaivorship by Gender\n"
   ]
  },
  {
   "cell_type": "code",
   "execution_count": 18,
   "metadata": {
    "collapsed": false
   },
   "outputs": [
    {
     "name": "stdout",
     "output_type": "stream",
     "text": [
      "Percent of female and male passenger who survived:\n",
      "Sex\n",
      "female    74.20\n",
      "male      18.89\n",
      "dtype: float64\n"
     ]
    }
   ],
   "source": [
    "Passenger_Group_by_Gender = Titanic.groupby('Sex')\n",
    "num_FM_survided = Passenger_Group_by_Gender ['Survived'].sum()\n",
    "count_FM_Group = Passenger_Group_by_Gender ['PassengerId'].count()\n",
    "print 'Percent of female and male passenger who survived:'\n",
    "print (num_FM_survided/count_FM_Group)*100"
   ]
  },
  {
   "cell_type": "code",
   "execution_count": 10,
   "metadata": {
    "collapsed": false
   },
   "outputs": [
    {
     "name": "stdout",
     "output_type": "stream",
     "text": [
      "Populating the interactive namespace from numpy and matplotlib\n"
     ]
    },
    {
     "data": {
      "image/png": "[encoded data removed]",
      "text/plain": [
       "<matplotlib.figure.Figure at 0x117244710>"
      ]
     },
     "metadata": {},
     "output_type": "display_data"
    }
   ],
   "source": [
    "import matplotlib.pyplot as plt\n",
    "import seaborn as sns\n",
    "% pylab inline\n",
    "index = [1,2]\n",
    "plt.bar(index, count_FM_Group, color = 'blue', label = \"Titanic Passengers\" )\n",
    "\n",
    "plt.bar(index, num_FM_survided, color = 'green', label = \"Titanic Survivors\")\n",
    "plt.axhline(color = 'black')\n",
    "plt.xticks([1, 2], ['Female', 'Male'])\n",
    "plt.title(\"Male and Female Passengers Survivorship\", size=15)\n",
    "plt.legend(loc='upper left')\n",
    "plt.show()\n",
    "\n",
    "\n"
   ]
  },
  {
   "cell_type": "markdown",
   "metadata": {},
   "source": [
    "Almost 75% of women survived the crash while male passengers survival rate was less than 19%. The chart visualizes this huge difference."
   ]
  },
  {
   "cell_type": "markdown",
   "metadata": {},
   "source": [
    "### Survaivalship by Age"
   ]
  },
  {
   "cell_type": "markdown",
   "metadata": {},
   "source": [
    "In order to calculate the survivorship by age, first I have to categorize the data. I used the \"bins\" in Pandas to do it. My first step was to determine the categories that I wanted to see the survivorship. \n",
    "Since I was interested to see this rate specifically for children under the age 10 and older than 65, I chose 4 categories with unequal intervals: \n",
    "Children: 0-10 \n",
    "Young Adults: 10-18 \n",
    "Adults: 18-65 \n",
    "Elderlies: 65-100"
   ]
  },
  {
   "cell_type": "code",
   "execution_count": 11,
   "metadata": {
    "collapsed": false
   },
   "outputs": [
    {
     "data": {
      "text/plain": [
       "Adults          567\n",
       "Young_Adults     75\n",
       "Children         64\n",
       "Elderlies         8\n",
       "Name: AgeGroup, dtype: int64"
      ]
     },
     "execution_count": 11,
     "metadata": {},
     "output_type": "execute_result"
    }
   ],
   "source": [
    "bins = [0, 10, 18, 65, 100]\n",
    "group_names= ['Children', 'Young_Adults', 'Adults', 'Elderlies']\n",
    "AgeGroup = pd.cut(Titanic['Age'], bins, labels=group_names)\n",
    "Titanic['AgeGroup'] = pd.cut(Titanic['Age'], bins, labels=group_names)\n",
    "pd.value_counts(Titanic['AgeGroup'])\n"
   ]
  },
  {
   "cell_type": "markdown",
   "metadata": {},
   "source": [
    "Now it shows which age group each passenger will fall in. The majority of passengers were between age 18-65 and there were only 8 passengers older than 65 years old. The next step in to find out which age group had the highest survival rate."
   ]
  },
  {
   "cell_type": "code",
   "execution_count": 12,
   "metadata": {
    "collapsed": false
   },
   "outputs": [
    {
     "name": "stdout",
     "output_type": "stream",
     "text": [
      "Percent of children, young adults, adults, and ederlies who survived:\n",
      "AgeGroup\n",
      "Children        59.38\n",
      "Young_Adults    42.67\n",
      "Adults          38.62\n",
      "Elderlies       12.50\n",
      "dtype: float64\n"
     ]
    }
   ],
   "source": [
    "Passenger_Group_by_Age = Titanic.groupby(['AgeGroup'])\n",
    " \n",
    "num_survided = Passenger_Group_by_Age ['Survived'].sum()\n",
    "count_Age_Group = Passenger_Group_by_Age ['PassengerId'].count()\n",
    "print 'Percent of children, young adults, adults, and ederlies who survived:'\n",
    "print (num_survided/count_Age_Group)*100"
   ]
  },
  {
   "cell_type": "code",
   "execution_count": 13,
   "metadata": {
    "collapsed": false
   },
   "outputs": [
    {
     "name": "stdout",
     "output_type": "stream",
     "text": [
      "Populating the interactive namespace from numpy and matplotlib\n"
     ]
    },
    {
     "data": {
      "image/png": "[encoded data removed]",
      "text/plain": [
       "<matplotlib.figure.Figure at 0x1172c3d50>"
      ]
     },
     "metadata": {},
     "output_type": "display_data"
    }
   ],
   "source": [
    "import matplotlib.pyplot as plt\n",
    "import seaborn as sns\n",
    "% pylab inline\n",
    "index = [1,2,3,4]\n",
    "plt.bar(index, count_Age_Group, color = 'blue', label = \"Titanic Passengers\" )\n",
    "plt.bar(index, num_survided, color = 'green', label = \"Titanic Survivors\")\n",
    "plt.axhline(color = 'black')\n",
    "plt.xticks([1, 2, 3, 4], ['Children', 'Young Adults', 'Adults', 'Elderlies'])\n",
    "plt.title(\"Age Groups Survivorship\", size=15)\n",
    "plt.legend(loc='upper left')\n",
    "plt.show()\n"
   ]
  },
  {
   "cell_type": "markdown",
   "metadata": {},
   "source": [
    "Surprisingly, children and young adults were more likely to survive the crash. It might be because of the help that they received from the adults. Also only 1 passenger above the age 65 survived. \n",
    "This chart shows the number of survived passenger in each age group compare to the total number of passengers in that age group."
   ]
  },
  {
   "cell_type": "markdown",
   "metadata": {},
   "source": [
    "### Survaivalship by Cabin Class"
   ]
  },
  {
   "cell_type": "code",
   "execution_count": 14,
   "metadata": {
    "collapsed": false
   },
   "outputs": [
    {
     "name": "stdout",
     "output_type": "stream",
     "text": [
      "Percent of survivors based on their cabin class:\n",
      "Pclass\n",
      "1    62.96\n",
      "2    47.28\n",
      "3    24.24\n",
      "dtype: float64\n"
     ]
    }
   ],
   "source": [
    "Passenger_Group_by_CabClass= Titanic.groupby(['Pclass'])\n",
    "num_survived = Passenger_Group_by_CabClass['Survived'].sum()\n",
    "count_class= Passenger_Group_by_CabClass['PassengerId'].count()\n",
    "print'Percent of survivors based on their cabin class:'\n",
    "print (num_survived/count_class)*100"
   ]
  },
  {
   "cell_type": "markdown",
   "metadata": {},
   "source": [
    "More than 60% of first class passengers survived while less than 25% of third class passengers were able to scape. Now my question is:\n",
    "What about male and female passengers in each class? I saw majority of the female passengers survived but is this same of different classes?"
   ]
  },
  {
   "cell_type": "markdown",
   "metadata": {},
   "source": [
    "#### Survaivalship by Gender Based on Cabin's Class"
   ]
  },
  {
   "cell_type": "code",
   "execution_count": 15,
   "metadata": {
    "collapsed": false
   },
   "outputs": [
    {
     "name": "stdout",
     "output_type": "stream",
     "text": [
      "Percent of female and male passenger who survived based on their cabin class:\n",
      "Pclass  Sex   \n",
      "1       female    96.81\n",
      "        male      36.89\n",
      "2       female    92.11\n",
      "        male      15.74\n",
      "3       female    50.00\n",
      "        male      13.54\n",
      "dtype: float64\n"
     ]
    }
   ],
   "source": [
    "Surv_Gender_Class = Titanic.groupby(['Pclass', 'Sex'])\n",
    "print \"Percent of female and male passenger who survived based on their cabin class:\" \n",
    "print(Surv_Gender_Class['Survived'].sum()/ Surv_Gender_Class['PassengerId'].count())*100"
   ]
  },
  {
   "cell_type": "code",
   "execution_count": 16,
   "metadata": {
    "collapsed": false
   },
   "outputs": [
    {
     "name": "stdout",
     "output_type": "stream",
     "text": [
      "Populating the interactive namespace from numpy and matplotlib\n"
     ]
    },
    {
     "data": {
      "image/png": "[encoded data removed]",
      "text/plain": [
       "<matplotlib.figure.Figure at 0x1172d86d0>"
      ]
     },
     "metadata": {},
     "output_type": "display_data"
    }
   ],
   "source": [
    "num_FM_class_survided = Surv_Gender_Class ['Survived'].sum()\n",
    "count_FM_class_Group = Surv_Gender_Class ['PassengerId'].count()\n",
    "\n",
    "\n",
    "import matplotlib.pyplot as plt\n",
    "import seaborn as sns\n",
    "% pylab inline\n",
    "index = [1,2,3,4,5,6]\n",
    "plt.bar(index, count_FM_class_Group, color = 'blue', label = \"Titanic Passengers\" )\n",
    "\n",
    "plt.bar(index, num_FM_class_survided, color = 'green', label = \"Titanic Survivors\")\n",
    "plt.axhline(color = 'black')\n",
    "plt.xticks([1, 2,3,4,5,6], ['Female 1st', 'Male 1st', 'Female 2nd', 'Male 2nd', 'Female 3rd', 'Male 3rd'])\n",
    "plt.title(\"Male and Female Survivorship by Cabin Class\", size=15)\n",
    "plt.legend(loc='upper left')\n",
    "plt.show()\n",
    "\n"
   ]
  },
  {
   "cell_type": "markdown",
   "metadata": {},
   "source": [
    "The answer to my question regarding gender and cabin class is yes! In all classes, female passengers survivors were more than male ones. However there is a huge difference between the first class and the third class female survivorship: while almost all female passengers in the first class survived, only half of the third class one were able to scape.  "
   ]
  },
  {
   "cell_type": "markdown",
   "metadata": {},
   "source": [
    "***\n",
    "### <span style=\"color:green\"> Conclusions:</span>\n",
    "In this analysis I looked into the factors that make passengers more likely to survive the Titanic crash. Based on the dataset that I had, I chose sex, class, and age to focus on. Here is the summary of what I found analyzing this data set:\n",
    "\n",
    "* ###### The groups of passengers who were most likely to survive in 1D analysis were:\n",
    "    * Female Passengers: 74%\n",
    "    * First class Passengers: 63% \n",
    "    * Children under age of 5 years old: 59%\n",
    "\n",
    "* ###### The groups of passengers who were most likely to survive in 2D analysis were:\n",
    "    * Female Passengers in first class cabins: 97%\n",
    "    * Female Passengers in second-class cabins: 92%\n",
    "\n",
    "---\n",
    "### <span style=\"color:green\"> Limitations:</span>\n",
    "The very first problem with this data set is the fact his is not the whole population. The total number of passengers on the Titanic was 2,240 souls, which makes this dataset a sample dataset. In order to generalized the results of my analysis I need to have some info about the population and take advantage of statistical tests. \n",
    "Another limitation was the missing values in passengers' age. I excluded those data points wherever I used age as a variable.\n",
    "\n",
    "--- \n",
    "### <span style=\"color:green\"> Possible future analysis:</span>\n",
    "I would like to see the survivorship based on race and nationality.\n",
    "\n",
    "---\n"
   ]
  },
  {
   "cell_type": "markdown",
   "metadata": {},
   "source": [
    "http://pandas.pydata.org/pandas-docs/stable/generated/pandas.set_option.html\n",
    "\n",
    "http://pandas.pydata.org/pandas-docs/stable/generated/pandas.DataFrame.round.html\n",
    "\n",
    "http://stackoverflow.com/questions/20457038/python-how-to-round-down-to-2-decimals\n",
    "\n",
    "https://chrisalbon.com/python/pandas_binning_data.html\n",
    "\n",
    "http://pandas.pydata.org/pandas-docs/stable/generated/pandas.DataFrame.query.html#pandas.DataFrame.query\n",
    "\n",
    "http://pandas.pydata.org/pandas-docs/stable/indexing.html#the-query-method-experimental\n",
    "\n",
    "http://matplotlib.org/devdocs/api/_as_gen/matplotlib.axes.Axes.tick_params.html\n",
    "\n",
    "http://stats.stackexchange.com/questions/3476/how-to-name-the-ticks-in-a-python-matplotlib-boxplot\n",
    "\n",
    "http://www.history.com/topics/titanic"
   ]
  }
 ],
 "metadata": {
  "kernelspec": {
   "display_name": "Python 2",
   "language": "python",
   "name": "python2"
  },
  "language_info": {
   "codemirror_mode": {
    "name": "ipython",
    "version": 2
   },
   "file_extension": ".py",
   "mimetype": "text/x-python",
   "name": "python",
   "nbconvert_exporter": "python",
   "pygments_lexer": "ipython2",
   "version": "2.7.13"
  }
 },
 "nbformat": 4,
 "nbformat_minor": 2
}
